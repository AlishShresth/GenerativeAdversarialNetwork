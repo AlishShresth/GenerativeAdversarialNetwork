{
 "cells": [
  {
   "cell_type": "code",
   "execution_count": null,
   "metadata": {},
   "outputs": [],
   "source": [
    "import keras\n",
    "import tensorflow as tf"
   ]
  },
  {
   "cell_type": "code",
   "execution_count": null,
   "metadata": {},
   "outputs": [],
   "source": [
    "from keras.datasets import mnist \n",
    "from keras.layers import Input, Dense, Reshape, Flatten \n",
    "from keras.layers import BatchNormalization \n",
    "from keras.layers import LeakyReLU\n",
    "from keras.models import Sequential, Model \n",
    "from keras.optimizers.legacy import Adam \n",
    "import matplotlib.pyplot as plt \n",
    "import numpy as np"
   ]
  },
  {
   "cell_type": "code",
   "execution_count": null,
   "metadata": {},
   "outputs": [],
   "source": [
    "# Define input image dimensions\n",
    "# Large images take too much time and resources\n",
    "img_rows = 28\n",
    "img_cols = 28\n",
    "channels = 1\n",
    "img_shape = (img_rows, img_cols, channels)"
   ]
  },
  {
   "cell_type": "code",
   "execution_count": null,
   "metadata": {},
   "outputs": [],
   "source": [
    "# Given input of noise (latent) vector, the Generator produces on image.\n",
    "def build_generator():\n",
    "    noise_shape=(100,) # 1D array of size 100 (latent vector / noise)\n",
    "\n",
    "# Define generator network\n",
    "# Here we are only using Dense Layers. But network can be complicated based on the application. for example, you can use VGG for super res. GAN.\n",
    "\n",
    "    model = Sequential()\n",
    "\n",
    "    model.add(Dense(256, input_shape=noise_shape))\n",
    "    model.add(LeakyReLU(alpha=0.2))\n",
    "    model.add(BatchNormalization(momentum=0.8))\n",
    "    model.add(Dense(512))\n",
    "    model.add(LeakyReLU(alpha=0.2))\n",
    "    model.add(BatchNormalization(momentum=0.8))\n",
    "    model.add(Dense(1024))\n",
    "    model.add(LeakyReLU(alpha=0.2))\n",
    "    model.add(BatchNormalization(momentum=0.8))\n",
    "\n",
    "    model.add(Dense(np.prod(img_shape),activation='tanh'))\n",
    "    model.add(Reshape(img_shape))\n",
    "\n",
    "    model.summary()\n",
    "\n",
    "    noise = Input(shape=noise_shape)\n",
    "    img = model(noise)\n",
    "\n",
    "    return Model(noise,img)\n",
    "\n",
    "# Alpha - is a hyperparameter which controls the underlying value to which the function saturates negative network inputs\n",
    "# Momentum - spped up the traning"
   ]
  },
  {
   "cell_type": "code",
   "execution_count": null,
   "metadata": {},
   "outputs": [],
   "source": [
    "# Given an input, the Discriminator outputs the likelihood of the image being real\n",
    "# binary classification - true or false (we're calling it validity)\n",
    "\n",
    "def build_discriminator():\n",
    "\n",
    "    model = Sequential()\n",
    "\n",
    "    model.add(Flatten(input_shape=img_shape)) \n",
    "    model.add(Dense(512))\n",
    "    model.add(LeakyReLU(alpha=0.2))\n",
    "    model.add(Dense(256))\n",
    "    model.add(LeakyReLU(alpha=0.2))\n",
    "    model.add(Dense(1, activation='sigmoid'))\n",
    "    model.summary()\n",
    "\n",
    "    img = Input(shape=img_shape)\n",
    "    validity = model(img)\n",
    "\n",
    "    return Model(img, validity)\n",
    "\n",
    "# The validity is the Discriminator's guess of input being real or not."
   ]
  },
  {
   "cell_type": "code",
   "execution_count": null,
   "metadata": {},
   "outputs": [],
   "source": [
    "# Now to pit them against each other.\n",
    "# define a training function, load the data set, re-scale training images and set the ground truths\n",
    "\n",
    "def train(epochs, batch_size=128, save_interval=2000):\n",
    "    \n",
    "    # Load the dataset\n",
    "    (X_train, _), (_, _) = mnist.load_data()\n",
    "\n",
    "    # Convert to float and Rescale -1 to 1 (Can also do 0 to 1)\n",
    "    X_train = (X_train.astype(np.float32) - 127.5) / 127.5\n",
    "\n",
    "    # Add channels dimension. As the input to our generator and discriminator has a shape 28*28*1\n",
    "    X_train = np.expand_dims(X_train, axis=3)\n",
    "\n",
    "    half_batch = int(batch_size / 2)\n",
    "    \n",
    "    # loop through a number of epochs to train the discriminator by first selecting a random batch of images from the true dataset, generating a set of images from the generator, feeding both set of images into the discriminator, and finally setting the loss parameters for both the real and fake images, as well as the combined loss\n",
    "\n",
    "    for epoch in range(epochs+2):\n",
    "\n",
    "        # train discriminator\n",
    "\n",
    "        # Select a random half batch of real images\n",
    "        idx = np.random.randint(0, X_train.shape[0], half_batch)\n",
    "        imgs = X_train[idx]\n",
    "\n",
    "        noise = np.random.normal(0,1,(half_batch, 100))\n",
    "\n",
    "        # Generate a half batch of fake images\n",
    "        gen_imgs = generator.predict(noise)\n",
    "        \n",
    "        # Train the discriminator on real and fake images, separately\n",
    "        # Research showed that separate training is more effective\n",
    "        d_loss_real = discriminator.train_on_batch(imgs, np.ones((half_batch, 1)))\n",
    "        d_loss_fake = discriminator.train_on_batch(gen_imgs, np.zeros((half_batch,1)))\n",
    "\n",
    "        # take average loss from real and fake images\n",
    "        d_loss = 0.5 * np.add(d_loss_real, d_loss_fake)\n",
    "\n",
    "        # within the same loop we train our generator, by setting the input noise and ultimately training the generator to have the discriminator label its samples as valid by specifying the gradient loss\n",
    "\n",
    "        # train generator\n",
    "\n",
    "        # create noise vectors as input for generator\n",
    "        # create as many noise vectors as defined by the batch size.\n",
    "        # Based on normal distribution. output will be of size (batch size, 100)\n",
    "        noise = np.random.normal(0,1,(batch_size,100))\n",
    "\n",
    "        # the generator wants the discriminator to label the generated samples as valid (ones)\n",
    "        # this is where the generator is trying to trick discriminator into believing the genrated image is true (hence value of 1 for y)\n",
    "        valid_y = np.array([1] * batch_size) # creates an array of all ones of size=batch size\n",
    "\n",
    "        # generator is part of combined where it got directly linked with the discriminator\n",
    "        # train the generator with noise as x and 1 as y\n",
    "        # again, 1 as the output as it is adversarial and if generator did a great job of fooling the discriminator then the output would be 1 (true)\n",
    "        g_loss = combined.train_on_batch(noise, valid_y)\n",
    "\n",
    "        # Additionally, in order for us to keep track of our training process, we print the progress and save the sample image output depending on the epoch interval specified. \n",
    "        # Plot the progress\n",
    "        \n",
    "        print(\"%d [D loss: %f, acc.: %.2f%%] [G loss: %f]\" % (epoch, d_loss[0], 100*d_loss[1],g_loss))\n",
    "\n",
    "        # if at save interval -> save generated image samples\n",
    "        if epoch % save_interval == 0:\n",
    "            save_imgs(epoch)"
   ]
  },
  {
   "cell_type": "code",
   "execution_count": null,
   "metadata": {},
   "outputs": [],
   "source": [
    "# when the specific sample_interval is hit, we call the sample_image function:\n",
    "\n",
    "def save_imgs(epoch):\n",
    "    r,c = 5, 5\n",
    "    noise = np.random.normal(0, 1, (r * c, 100))\n",
    "    gen_imgs = generator.predict(noise)\n",
    "\n",
    "    # Rescale images 0 - 1\n",
    "    gen_imgs = 0.5 * gen_imgs + 0.5\n",
    "\n",
    "    fig, axs = plt.subplots(r,c)\n",
    "    cnt = 0\n",
    "    for i in range(r):\n",
    "        for j in range(c):\n",
    "            axs[i,j].imshow(gen_imgs[cnt,:,:,0],cmap='gray')\n",
    "            axs[i,j].axis('off') \n",
    "            cnt += 1\n",
    "    fig.savefig('./mnist100k/mnist_%d.png' % epoch)\n",
    "    plt.close()\n",
    "\n",
    "# this function saves our image "
   ]
  },
  {
   "cell_type": "code",
   "execution_count": null,
   "metadata": {},
   "outputs": [],
   "source": [
    "# Let us also define our optimizer for easy use later on.\n",
    "# That way if you change your mind, you can change it easily here\n",
    "optimizer = Adam(0.0002, 0.5) # Learning rate and momentum\n",
    "\n",
    "# Build and compile the discriminator first.\n",
    "# Generator will be trained as part of the combined model, later.\n",
    "# Pick the loss function and the type of metric to keep track. \n",
    "# Binary cross entropy as we are doing prediction and it is a better loss function compared to MSE or other.\n",
    "discriminator = build_discriminator()\n",
    "discriminator.compile(loss='binary_crossentropy',optimizer=optimizer, metrics=['accuracy'])\n",
    "\n",
    "# build and compile our discriminator, pick the loss function"
   ]
  },
  {
   "cell_type": "code",
   "execution_count": null,
   "metadata": {},
   "outputs": [],
   "source": [
    "# since we are only generating (faking) images, let us not track any metrics.\n",
    "generator = build_generator()\n",
    "generator.compile(loss='binary_crossentropy', optimizer=optimizer)\n",
    "\n",
    "# this build the generator and deffines the input noise"
   ]
  },
  {
   "cell_type": "code",
   "execution_count": null,
   "metadata": {},
   "outputs": [],
   "source": [
    "# In a GAN the generator network takes noise z as an input to produce its images\n",
    "z = Input(shape=(100,))\n",
    "img = generator(z)"
   ]
  },
  {
   "cell_type": "code",
   "execution_count": null,
   "metadata": {},
   "outputs": [],
   "source": [
    "# this ensures that when we combine our networks we only train the generator.\n",
    "# this doesn't affect the above discriminator training\n",
    "discriminator.trainable = False"
   ]
  },
  {
   "cell_type": "code",
   "execution_count": null,
   "metadata": {},
   "outputs": [],
   "source": [
    "# this specifies that our Discriminator will take the images generated by our Generator and true dataset and set its output to a parameter called valid, which will indicate whether the input is real or not\n",
    "valid = discriminator(img) # Validity check on the generated image"
   ]
  },
  {
   "cell_type": "code",
   "execution_count": null,
   "metadata": {},
   "outputs": [],
   "source": [
    "# Here we combine the models and also set our loss function and optimizer.\n",
    "# Again, we are only training the generator here.\n",
    "# the ultimate goal here is for the generator to fool the discriminator.\n",
    "# the combined model (stacked generator and discriminator) takes noise as input => generates images => determines validity\n",
    "\n",
    "combined = Model(z, valid)\n",
    "combined.compile(loss='binary_crossentropy', optimizer=optimizer)\n",
    "\n",
    "train(epochs=30000)"
   ]
  },
  {
   "cell_type": "code",
   "execution_count": null,
   "metadata": {},
   "outputs": [],
   "source": [
    "# Savel model for future use to generate fake images\n",
    "# Compare with GAN4\n",
    "\n",
    "generator.save('generator_model_test.h5') # Test the model on GAN4_predict...\n",
    "# Change epochs back to 30K\n",
    "\n",
    "# Epochs dictate the number of backward and forward propagations, the batch_size indicates the number of training samples per backward/forward propogation, and the sample_interval specifies after how many epochs we call our sample_image function"
   ]
  }
 ],
 "metadata": {
  "kernelspec": {
   "display_name": "Python 3",
   "language": "python",
   "name": "python3"
  },
  "language_info": {
   "codemirror_mode": {
    "name": "ipython",
    "version": 3
   },
   "file_extension": ".py",
   "mimetype": "text/x-python",
   "name": "python",
   "nbconvert_exporter": "python",
   "pygments_lexer": "ipython3",
   "version": "3.11.4"
  },
  "orig_nbformat": 4
 },
 "nbformat": 4,
 "nbformat_minor": 2
}
